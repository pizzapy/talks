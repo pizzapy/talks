{
 "cells": [
  {
   "cell_type": "code",
   "execution_count": null,
   "id": "907222d9",
   "metadata": {},
   "outputs": [],
   "source": [
    "# import thread pool exec\n",
    "from concurrent.futures import ThreadPoolExecutor\n",
    "# sleep time\n",
    "import time\n",
    "\n",
    "def thread_print(i):\n",
    "    print(f\"Thread {i} is running\")\n",
    "    time.sleep(10)  # Simulate some work by sleeping for 1 second\n"
   ]
  },
  {
   "cell_type": "code",
   "execution_count": null,
   "id": "9e0a5d97",
   "metadata": {},
   "outputs": [],
   "source": [
    "print('Start chatgpt call')\n",
    "thread_print(1)\n",
    "print('End chatgpt call')\n",
    "thread_print(2)"
   ]
  },
  {
   "cell_type": "code",
   "execution_count": null,
   "id": "9632dbae",
   "metadata": {},
   "outputs": [],
   "source": [
    "\n",
    "with ThreadPoolExecutor(max_workers=8) as executor:\n",
    "    # Submit tasks to the executor\n",
    "    futures = [executor.submit(thread_print, i) for i in range(6)]\n",
    "\n",
    "    print(\"All tasks have been submitted.\")\n",
    "\n",
    "    # # Wait for all futures to complete\n",
    "    # for future in futures:\n",
    "    #     future.result()  # This will block until the thread completes"
   ]
  },
  {
   "cell_type": "code",
   "execution_count": null,
   "id": "a798c69f",
   "metadata": {},
   "outputs": [],
   "source": [
    "print(\"Main thread is starting\")"
   ]
  },
  {
   "cell_type": "code",
   "execution_count": null,
   "id": "f3328e2d",
   "metadata": {},
   "outputs": [],
   "source": [
    "# same approach but using async nest\n",
    "import asyncio\n",
    "# nested\n",
    "import nest_asyncio\n",
    "nest_asyncio.apply()"
   ]
  },
  {
   "cell_type": "code",
   "execution_count": null,
   "id": "03b08ed9",
   "metadata": {},
   "outputs": [],
   "source": [
    "# task gathering\n",
    "async def async_thread_print(i):\n",
    "    print(f\"Async Thread {i} is running\")\n",
    "    await asyncio.sleep(10-i)  # Simulate some work by sleeping for 1 second\n",
    "\n",
    "tasks = [async_thread_print(i) for i in range(10)]\n",
    "# run all tasks inside the event loop\n",
    "async def main():\n",
    "    await asyncio.gather(*tasks)\n",
    "# Run non blocking event loop"
   ]
  },
  {
   "cell_type": "code",
   "execution_count": null,
   "id": "8ec2710a",
   "metadata": {},
   "outputs": [],
   "source": [
    "from dotenv import load_dotenv\n",
    "load_dotenv()\n",
    "import os"
   ]
  },
  {
   "cell_type": "code",
   "execution_count": null,
   "id": "0942b26f",
   "metadata": {},
   "outputs": [],
   "source": [
    "OPENAI_API_KEY = os.getenv(\"OPENAI_API_KEY\")"
   ]
  },
  {
   "cell_type": "code",
   "execution_count": null,
   "id": "0a8ce120",
   "metadata": {},
   "outputs": [],
   "source": [
    "from openai import OpenAI\n",
    "client = OpenAI(\n",
    "    api_key=OPENAI_API_KEY\n",
    ")\n"
   ]
  },
  {
   "cell_type": "code",
   "execution_count": null,
   "id": "f59fd7d0",
   "metadata": {},
   "outputs": [],
   "source": [
    "for i in range(10):\n",
    "    response = client.responses.create(\n",
    "        model=\"gpt-4.1\",\n",
    "        input=\"Write a one-sentence bedtime story about a unicorn.\"\n",
    "    )\n",
    "    print(response.output_text)"
   ]
  },
  {
   "cell_type": "code",
   "execution_count": null,
   "id": "bdf8b11e",
   "metadata": {},
   "outputs": [],
   "source": [
    "# async openai import\n",
    "from openai import AsyncOpenAI\n",
    "async_client = AsyncOpenAI(\n",
    "    api_key=OPENAI_API_KEY\n",
    ")"
   ]
  },
  {
   "cell_type": "code",
   "execution_count": null,
   "id": "0e60a1a4",
   "metadata": {},
   "outputs": [],
   "source": [
    "# create 10 tasks for bedtime stories\n",
    "async def async_openai_call(i):\n",
    "    response = await async_client.responses.create(\n",
    "        model=\"gpt-4.1\",\n",
    "        input=\"Write a one-sentence bedtime story about a unicorn.\"\n",
    "    )\n",
    "    print(f\"Response {i}: {response.output_text}\")\n",
    "\n",
    "# run the async tasks\n",
    "tasks = [async_openai_call(i) for i in range(10)]\n",
    "# run the event loop\n",
    "await asyncio.gather(*tasks)"
   ]
  },
  {
   "cell_type": "code",
   "execution_count": null,
   "id": "19f16644",
   "metadata": {},
   "outputs": [],
   "source": []
  }
 ],
 "metadata": {
  "kernelspec": {
   "display_name": ".venv",
   "language": "python",
   "name": "python3"
  },
  "language_info": {
   "codemirror_mode": {
    "name": "ipython",
    "version": 3
   },
   "file_extension": ".py",
   "mimetype": "text/x-python",
   "name": "python",
   "nbconvert_exporter": "python",
   "pygments_lexer": "ipython3",
   "version": "3.12.3"
  }
 },
 "nbformat": 4,
 "nbformat_minor": 5
}
