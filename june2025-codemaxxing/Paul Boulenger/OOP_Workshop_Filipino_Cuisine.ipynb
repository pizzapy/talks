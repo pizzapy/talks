{
 "cells": [
  {
   "cell_type": "markdown",
   "metadata": {},
   "source": [
    "# 🍽️ Object-Oriented Programming in Python (with Filipino Cuisine 🇵🇭)\n",
    "\n",
    "Welcome to this 45-minute crash course on OOP in Python! We’ll explore core object-oriented principles using **Filipino dishes** as our theme.\n",
    "\n",
    "---\n",
    "\n",
    "## Workshop Outline\n",
    "1. Introduction to OOP\n",
    "2. Classes and Objects: Why do we need them?\n",
    "3. Attributes and Methods\n",
    "4. Encapsulation\n",
    "5. Inheritance & Subclasses\n",
    "6. Polymorphism\n",
    "7. Abstract Classes\n",
    "8. Best Practices and Common Pitfalls\n"
   ]
  },
  {
   "cell_type": "markdown",
   "metadata": {},
   "source": [
    "# 1. 🧠 Introduction to OOP\n",
    "\n",
    "Object-Oriented Programming (OOP) is a way to structure code by modeling **real-world entities** as **objects**.\n",
    "\n",
    "**Why OOP?**\n",
    "- Organize complex code\n",
    "- Reuse logic with inheritance\n",
    "- Improve readability & maintainability\n",
    "\n",
    "Let’s start with an example: Filipino dishes!\n"
   ]
  },
  {
   "cell_type": "markdown",
   "metadata": {},
   "source": [
    "# 2. 🏗️ Variables, Classes and Objects: Why Do We Need Classes?\n",
    "\n",
    "As we build more dishes, passing around data becomes messy. Let’s model it with classes!\n"
   ]
  },
  {
   "cell_type": "code",
   "execution_count": 30,
   "metadata": {},
   "outputs": [],
   "source": [
    "adobo_name = \"Adobo\"\n",
    "adobo_ingredients = [\"chicken\", \"soy sauce\", \"vinegar\"]\n",
    "\n",
    "lechon_name = \"Lechon\"\n",
    "lechon_ingredients = [\"pork\", \"salt\", \"pepper\"]\n",
    "\n",
    "kare_kare_name = \"Kare-Kare\"\n",
    "kare_kare_ingredients = [\"pork\", \"tamarind\", \"peanuts\", \"rice\"]\n",
    "\n",
    "halo_halo_name = \"Halo-Halo\"\n",
    "halo_halo_ingredients = [\"sweet beans\", \"sago\"]"
   ]
  },
  {
   "cell_type": "markdown",
   "metadata": {},
   "source": [
    "-> Quickly gets unconvenient\n",
    "\n",
    "Use dictionaries!"
   ]
  },
  {
   "cell_type": "code",
   "execution_count": 31,
   "metadata": {},
   "outputs": [],
   "source": [
    "adobo = {\n",
    "    \"name\": \"Adobo\",\n",
    "    \"ingredients\": [\"chicken\", \"soy sauce\", \"vinegar\"],\n",
    "    \"instructions\": [\"1. Marinate the chicken in soy sauce, vinegar, and garlic.\",\n",
    "                     \"2. Cook the chicken in a pot with soy sauce, vinegar, and garlic.\",\n",
    "                     \"3. Serve with rice.\"]\n",
    "}\n",
    "\n",
    "lechon = {\n",
    "    \"name\": \"Lechon\",\n",
    "    \"ingredients\": [\"pork\", \"salt\", \"pepper\"],\n",
    "    \"instructions\": [\n",
    "        \"1. Marinate the pork in salt and pepper.\",\n",
    "        \"2. Cook the pork in a pot with salt and pepper.\",\n",
    "        \"3. Serve with rice.\"\n",
    "    ]\n",
    "}"
   ]
  },
  {
   "cell_type": "markdown",
   "metadata": {},
   "source": [
    "-> Better but:\n",
    "- Repeated key\n",
    "- Risk of inconsistencies\n",
    "- What if we want to add a function that is common to all Filipino dishes? Compute the price of dish based on the number of ingredients and quantity\n",
    "\n",
    "-> Use classes !"
   ]
  },
  {
   "cell_type": "code",
   "execution_count": 32,
   "metadata": {},
   "outputs": [
    {
     "name": "stdout",
     "output_type": "stream",
     "text": [
      "Price of 2 Adobo is 80\n",
      "Price of 3 Lechon is 90\n"
     ]
    }
   ],
   "source": [
    "class FilipinoDish:\n",
    "    def __init__(self, name, \n",
    "                  ingredients,\n",
    "                  instructions):\n",
    "        self.name = name\n",
    "        self.ingredients = ingredients\n",
    "        self.instructions = instructions\n",
    "\n",
    "    \n",
    "    def compute_price(self, quantity):\n",
    "        return len(self.ingredients) * quantity * 10\n",
    "\n",
    "# Creating an object (instance)\n",
    "adobo = FilipinoDish(\"Adobo\", [\"chicken\", \"soy sauce\", \"vinegar\", \"garlic\"], [\"1. Marinate the chicken in soy sauce, vinegar, and garlic.\",\n",
    "                                                                   \"2. Cook the chicken in a pot with soy sauce, vinegar, and garlic.\",\n",
    "                                                                   \"3. Serve with rice.\"])\n",
    "\n",
    "print(f\"Price of 2 {adobo.name} is {adobo.compute_price(2)}\")\n",
    "\n",
    "lechon = FilipinoDish(\"Lechon\", [\"pork\", \"salt\", \"pepper\"], [\"1. Marinate the pork in salt and pepper.\",\n",
    "                                                            \"2. Cook the pork in a pot with salt and pepper.\",\n",
    "                                                            \"3. Serve with rice.\"])\n",
    "\n",
    "print(f\"Price of 3 {lechon.name} is {lechon.compute_price(3)}\")"
   ]
  },
  {
   "cell_type": "markdown",
   "metadata": {},
   "source": [
    "# 3. 🧱 Attributes and Methods\n",
    "\n",
    "- **Attributes** are variables that belong to an object.\n",
    "- **Methods** are functions defined in a class.\n"
   ]
  },
  {
   "cell_type": "markdown",
   "metadata": {},
   "source": [
    "In the latter case:\n",
    "\n",
    "- Attributes:\n",
    "  - name\n",
    "  - ingredients\n",
    "  - instructions\n",
    "\n",
    "- Methods:\n",
    "  - __init__ : base method allowing to create an instance of the class\n",
    "  - compute_price : method specific to the class"
   ]
  },
  {
   "cell_type": "markdown",
   "metadata": {},
   "source": [
    "# 4. 🔐 Encapsulation\n",
    "\n",
    "Encapsulation means hiding internal state and requiring access through methods. It helps protect data.\n"
   ]
  },
  {
   "cell_type": "code",
   "execution_count": 34,
   "metadata": {},
   "outputs": [
    {
     "name": "stdout",
     "output_type": "stream",
     "text": [
      "Lechon\n"
     ]
    },
    {
     "ename": "AttributeError",
     "evalue": "'SecureDish' object has no attribute '__name'",
     "output_type": "error",
     "traceback": [
      "\u001b[31m---------------------------------------------------------------------------\u001b[39m",
      "\u001b[31mAttributeError\u001b[39m                            Traceback (most recent call last)",
      "\u001b[36mCell\u001b[39m\u001b[36m \u001b[39m\u001b[32mIn[34]\u001b[39m\u001b[32m, line 15\u001b[39m\n\u001b[32m     13\u001b[39m dish = SecureDish(\u001b[33m\"\u001b[39m\u001b[33mLechon\u001b[39m\u001b[33m\"\u001b[39m)\n\u001b[32m     14\u001b[39m \u001b[38;5;28mprint\u001b[39m(dish.get_name())\n\u001b[32m---> \u001b[39m\u001b[32m15\u001b[39m \u001b[38;5;28mprint\u001b[39m(\u001b[43mdish\u001b[49m\u001b[43m.\u001b[49m\u001b[43m__name\u001b[49m)\n",
      "\u001b[31mAttributeError\u001b[39m: 'SecureDish' object has no attribute '__name'"
     ]
    }
   ],
   "source": [
    "class SecureDish:\n",
    "    def __init__(self, name):\n",
    "        self.__name = name  # private attribute\n",
    "\n",
    "    def get_name(self):\n",
    "        return self.__name\n",
    "\n",
    "    def set_name(self, name):\n",
    "        if name == \"\":\n",
    "            raise ValueError(\"Name cannot be empty\")\n",
    "        self.__name = name\n",
    "\n",
    "dish = SecureDish(\"Lechon\")\n",
    "print(dish.get_name())\n",
    "print(dish.__name)\n"
   ]
  },
  {
   "cell_type": "markdown",
   "metadata": {},
   "source": [
    "# 5. 🧬 Inheritance & Subclasses\n",
    "\n",
    "Inheritance lets you reuse code by creating **child classes** that inherit from **parent classes**.\n"
   ]
  },
  {
   "cell_type": "code",
   "execution_count": 17,
   "metadata": {},
   "outputs": [
    {
     "name": "stdout",
     "output_type": "stream",
     "text": [
      "Kare-Kare was well defined\n"
     ]
    },
    {
     "ename": "ValueError",
     "evalue": "Sugar is required for a dessert",
     "output_type": "error",
     "traceback": [
      "\u001b[31m---------------------------------------------------------------------------\u001b[39m",
      "\u001b[31mValueError\u001b[39m                                Traceback (most recent call last)",
      "\u001b[36mCell\u001b[39m\u001b[36m \u001b[39m\u001b[32mIn[17]\u001b[39m\u001b[32m, line 26\u001b[39m\n\u001b[32m     21\u001b[39m kare_kare = MainDish(\u001b[33m\"\u001b[39m\u001b[33mKare-Kare\u001b[39m\u001b[33m\"\u001b[39m, [\u001b[33m\"\u001b[39m\u001b[33mpork\u001b[39m\u001b[33m\"\u001b[39m, \u001b[33m\"\u001b[39m\u001b[33mtamarind\u001b[39m\u001b[33m\"\u001b[39m, \u001b[33m\"\u001b[39m\u001b[33mpeanuts\u001b[39m\u001b[33m\"\u001b[39m, \u001b[33m\"\u001b[39m\u001b[33mrice\u001b[39m\u001b[33m\"\u001b[39m], [\u001b[33m\"\u001b[39m\u001b[33m1. Cook the pork in a pot with tamarind and peanuts.\u001b[39m\u001b[33m\"\u001b[39m,\n\u001b[32m     22\u001b[39m                                                                    \u001b[33m\"\u001b[39m\u001b[33m2. Serve with rice.\u001b[39m\u001b[33m\"\u001b[39m])\n\u001b[32m     24\u001b[39m \u001b[38;5;28mprint\u001b[39m(\u001b[33mf\u001b[39m\u001b[33m\"\u001b[39m\u001b[38;5;132;01m{\u001b[39;00mkare_kare.name\u001b[38;5;132;01m}\u001b[39;00m\u001b[33m was well defined\u001b[39m\u001b[33m\"\u001b[39m)\n\u001b[32m---> \u001b[39m\u001b[32m26\u001b[39m halo_halo = \u001b[43mDessert\u001b[49m\u001b[43m(\u001b[49m\u001b[33;43m\"\u001b[39;49m\u001b[33;43mHalo-Halo\u001b[39;49m\u001b[33;43m\"\u001b[39;49m\u001b[43m,\u001b[49m\u001b[43m \u001b[49m\u001b[43m[\u001b[49m\u001b[33;43m\"\u001b[39;49m\u001b[33;43msweet beans\u001b[39;49m\u001b[33;43m\"\u001b[39;49m\u001b[43m,\u001b[49m\u001b[43m \u001b[49m\u001b[33;43m\"\u001b[39;49m\u001b[33;43msago\u001b[39;49m\u001b[33;43m\"\u001b[39;49m\u001b[43m]\u001b[49m\u001b[43m,\u001b[49m\u001b[43m \u001b[49m\u001b[43m[\u001b[49m\u001b[33;43m\"\u001b[39;49m\u001b[33;43m1. Cook the sweet beans in a pot with sago and sugar.\u001b[39;49m\u001b[33;43m\"\u001b[39;49m\u001b[43m,\u001b[49m\n\u001b[32m     27\u001b[39m \u001b[43m                                                                   \u001b[49m\u001b[33;43m\"\u001b[39;49m\u001b[33;43m2. Serve cold.\u001b[39;49m\u001b[33;43m\"\u001b[39;49m\u001b[43m]\u001b[49m\u001b[43m)\u001b[49m\n",
      "\u001b[36mCell\u001b[39m\u001b[36m \u001b[39m\u001b[32mIn[17]\u001b[39m\u001b[32m, line 19\u001b[39m, in \u001b[36mDessert.__init__\u001b[39m\u001b[34m(self, name, ingredients, instructions)\u001b[39m\n\u001b[32m     16\u001b[39m \u001b[38;5;28msuper\u001b[39m().\u001b[34m__init__\u001b[39m(name, ingredients, instructions)\n\u001b[32m     18\u001b[39m \u001b[38;5;28;01mif\u001b[39;00m \u001b[33m\"\u001b[39m\u001b[33msugar\u001b[39m\u001b[33m\"\u001b[39m \u001b[38;5;129;01mnot\u001b[39;00m \u001b[38;5;129;01min\u001b[39;00m ingredients:\n\u001b[32m---> \u001b[39m\u001b[32m19\u001b[39m     \u001b[38;5;28;01mraise\u001b[39;00m \u001b[38;5;167;01mValueError\u001b[39;00m(\u001b[33m\"\u001b[39m\u001b[33mSugar is required for a dessert\u001b[39m\u001b[33m\"\u001b[39m)\n",
      "\u001b[31mValueError\u001b[39m: Sugar is required for a dessert"
     ]
    }
   ],
   "source": [
    "class MainDish(FilipinoDish):\n",
    "    def __init__(self,\n",
    "                 name,\n",
    "                 ingredients,\n",
    "                 instructions):\n",
    "        super().__init__(name, ingredients, instructions)\n",
    "        \n",
    "        if \"rice\" not in ingredients:\n",
    "            raise ValueError(\"Rice is required for a main dish\")\n",
    "\n",
    "class Dessert(FilipinoDish):\n",
    "    def __init__(self,\n",
    "                 name,\n",
    "                 ingredients,\n",
    "                 instructions):\n",
    "        super().__init__(name, ingredients, instructions)\n",
    "\n",
    "        if \"sugar\" not in ingredients:\n",
    "            raise ValueError(\"Sugar is required for a dessert\")\n",
    "\n",
    "kare_kare = MainDish(\"Kare-Kare\", [\"pork\", \"tamarind\", \"peanuts\", \"rice\"], [\"1. Cook the pork in a pot with tamarind and peanuts.\",\n",
    "                                                                   \"2. Serve with rice.\"])\n",
    "\n",
    "print(f\"{kare_kare.name} was well defined\")\n",
    "\n",
    "halo_halo = Dessert(\"Halo-Halo\", [\"sweet beans\", \"sago\"], [\"1. Cook the sweet beans in a pot with sago and sugar.\",\n",
    "                                                                   \"2. Serve cold.\"])\n",
    "\n"
   ]
  },
  {
   "cell_type": "markdown",
   "metadata": {},
   "source": [
    "# 6. 🎭 Polymorphism\n",
    "\n",
    "Polymorphism allows different object types to be used interchangeably if they share the same method interface.\n"
   ]
  },
  {
   "cell_type": "code",
   "execution_count": 18,
   "metadata": {},
   "outputs": [
    {
     "name": "stdout",
     "output_type": "stream",
     "text": [
      "Price of 2 (regular) Lechon is 60\n",
      "Price of 2 (energy costly) Lechon is 90.0\n"
     ]
    }
   ],
   "source": [
    "class EnergyCostlyDish(FilipinoDish):\n",
    "    def __init__(self,\n",
    "                 name,\n",
    "                 ingredients,\n",
    "                 instructions):\n",
    "        super().__init__(name, ingredients, instructions)\n",
    "\n",
    "    def compute_price(self, quantity):\n",
    "        return super().compute_price(quantity) * 1.5\n",
    "    \n",
    "\n",
    "regular_lechon = FilipinoDish(\"Lechon\", [\"pork\", \"salt\", \"pepper\"], [\"1. Marinate the pork in salt and pepper.\",\n",
    "                                                            \"2. Cook the pork in a pot with salt and pepper.\",\n",
    "                                                            \"3. Serve with rice.\"])\n",
    "\n",
    "print(f\"Price of 2 (regular) {regular_lechon.name} is {regular_lechon.compute_price(2)}\")\n",
    "\n",
    "exp_lechon = EnergyCostlyDish(\"Lechon\", [\"pork\", \"salt\", \"pepper\"], [\"1. Marinate the pork in salt and pepper.\",\n",
    "                                                            \"2. Cook the pork in a pot with salt and pepper.\",\n",
    "                                                            \"3. Serve with rice.\"])\n",
    "\n",
    "print(f\"Price of 2 (energy costly) {exp_lechon.name} is {exp_lechon.compute_price(2)}\")\n",
    "\n",
    "\n",
    "\n"
   ]
  },
  {
   "cell_type": "markdown",
   "metadata": {},
   "source": [
    "# 7. 🧰 Abstract Classes\n",
    "\n",
    "Use abstract classes when you want to enforce certain methods to be implemented by subclasses.\n"
   ]
  },
  {
   "cell_type": "code",
   "execution_count": 27,
   "metadata": {},
   "outputs": [
    {
     "name": "stdout",
     "output_type": "stream",
     "text": [
      "Price of 2 Adobo is 80\n",
      "Price of 1 Quiche is 100\n",
      "\n",
      "Quiche is made with:\n",
      "egg, cheese, ham, Dough\n",
      "\n",
      "Instructions:\n",
      "1. Beat the eggs.\n",
      "2. Add the cheese and ham to the eggs.\n",
      "3. Bake the quiche in the oven.\n"
     ]
    },
    {
     "ename": "TypeError",
     "evalue": "Can't instantiate abstract class Dish with abstract method compute_price",
     "output_type": "error",
     "traceback": [
      "\u001b[31m---------------------------------------------------------------------------\u001b[39m",
      "\u001b[31mTypeError\u001b[39m                                 Traceback (most recent call last)",
      "\u001b[36mCell\u001b[39m\u001b[36m \u001b[39m\u001b[32mIn[27]\u001b[39m\u001b[32m, line 60\u001b[39m\n\u001b[32m     55\u001b[39m \u001b[38;5;28mprint\u001b[39m(\u001b[33mf\u001b[39m\u001b[33m\"\u001b[39m\u001b[33mPrice of 1 \u001b[39m\u001b[38;5;132;01m{\u001b[39;00mquiche.name\u001b[38;5;132;01m}\u001b[39;00m\u001b[33m is \u001b[39m\u001b[38;5;132;01m{\u001b[39;00mquiche.compute_price(\u001b[32m1\u001b[39m)\u001b[38;5;132;01m}\u001b[39;00m\u001b[33m\"\u001b[39m)\n\u001b[32m     57\u001b[39m \u001b[38;5;28mprint\u001b[39m(quiche.get_recipe())\n\u001b[32m---> \u001b[39m\u001b[32m60\u001b[39m italian_dish = \u001b[43mDish\u001b[49m\u001b[43m(\u001b[49m\u001b[33;43m\"\u001b[39;49m\u001b[33;43mPizza\u001b[39;49m\u001b[33;43m\"\u001b[39;49m\u001b[43m,\u001b[49m\u001b[43m \u001b[49m\u001b[43m[\u001b[49m\u001b[33;43m\"\u001b[39;49m\u001b[33;43mdough\u001b[39;49m\u001b[33;43m\"\u001b[39;49m\u001b[43m,\u001b[49m\u001b[43m \u001b[49m\u001b[33;43m\"\u001b[39;49m\u001b[33;43mtomato\u001b[39;49m\u001b[33;43m\"\u001b[39;49m\u001b[43m,\u001b[49m\u001b[43m \u001b[49m\u001b[33;43m\"\u001b[39;49m\u001b[33;43mcheese\u001b[39;49m\u001b[33;43m\"\u001b[39;49m\u001b[43m,\u001b[49m\u001b[43m \u001b[49m\u001b[33;43m\"\u001b[39;49m\u001b[33;43mham\u001b[39;49m\u001b[33;43m\"\u001b[39;49m\u001b[43m]\u001b[49m\u001b[43m,\u001b[49m\u001b[43m \u001b[49m\u001b[43m[\u001b[49m\u001b[33;43m\"\u001b[39;49m\u001b[33;43m1. Bake the pizza in the oven.\u001b[39;49m\u001b[33;43m\"\u001b[39;49m\u001b[43m,\u001b[49m\n\u001b[32m     61\u001b[39m \u001b[43m                                                                   \u001b[49m\u001b[33;43m\"\u001b[39;49m\u001b[33;43m2. Serve with a side of salad.\u001b[39;49m\u001b[33;43m\"\u001b[39;49m\u001b[43m]\u001b[49m\u001b[43m)\u001b[49m\n\u001b[32m     62\u001b[39m \u001b[38;5;28mprint\u001b[39m(italian_dish.get_recipe())\n",
      "\u001b[31mTypeError\u001b[39m: Can't instantiate abstract class Dish with abstract method compute_price"
     ]
    }
   ],
   "source": [
    "from abc import ABC, abstractmethod\n",
    "\n",
    "class Dish(ABC):\n",
    "    def __init__(self,\n",
    "                 name,\n",
    "                 ingredients,\n",
    "                 instructions):\n",
    "        self.name = name\n",
    "        self.ingredients = ingredients\n",
    "        self.instructions = instructions\n",
    "\n",
    "    @abstractmethod\n",
    "    def compute_price(self, quantity):\n",
    "        pass\n",
    "    \n",
    "    def get_recipe(self):\n",
    "        instructions_text = \"\\n\".join(self.instructions)\n",
    "        return f\"\"\"\n",
    "{self.name} is made with:\n",
    "{', '.join(self.ingredients)}\n",
    "\n",
    "Instructions:\n",
    "{instructions_text}\"\"\"\n",
    "\n",
    "class FilipinoDish(Dish):\n",
    "    def __init__(self,\n",
    "                 name,\n",
    "                 ingredients,\n",
    "                 instructions):\n",
    "        super().__init__(name, ingredients, instructions)\n",
    "\n",
    "    def compute_price(self, quantity):\n",
    "        return len(self.ingredients) * quantity * 10\n",
    "    \n",
    "class FrenchDish(Dish):\n",
    "    def __init__(self,\n",
    "                 name,\n",
    "                 ingredients,\n",
    "                 instructions):\n",
    "        super().__init__(name, ingredients, instructions)\n",
    "\n",
    "    def compute_price(self, quantity):\n",
    "        return len(self.ingredients) * quantity * 25\n",
    "    \n",
    "\n",
    "adobo = FilipinoDish(\"Adobo\", [\"chicken\", \"soy sauce\", \"vinegar\", \"garlic\"], [\"1. Marinate the chicken in soy sauce, vinegar, and garlic.\",\n",
    "                                                                   \"2. Cook the chicken in a pot with soy sauce, vinegar, and garlic.\",\n",
    "                                                                   \"3. Serve with rice.\"])\n",
    "\n",
    "print(f\"Price of 2 {adobo.name} is {adobo.compute_price(2)}\")\n",
    "\n",
    "quiche = FrenchDish(\"Quiche\", [\"egg\", \"cheese\", \"ham\", \"Dough\"], [\"1. Beat the eggs.\",\n",
    "                                                        \"2. Add the cheese and ham to the eggs.\",\n",
    "                                                        \"3. Bake the quiche in the oven.\"])\n",
    "\n",
    "print(f\"Price of 1 {quiche.name} is {quiche.compute_price(1)}\")\n",
    "\n",
    "print(quiche.get_recipe())\n",
    "\n",
    "\n",
    "italian_dish = Dish(\"Pizza\", [\"dough\", \"tomato\", \"cheese\", \"ham\"], [\"1. Bake the pizza in the oven.\",\n",
    "                                                                   \"2. Serve with a side of salad.\"])\n",
    "print(italian_dish.get_recipe())\n",
    "\n",
    "\n",
    "\n",
    "\n"
   ]
  },
  {
   "cell_type": "markdown",
   "metadata": {},
   "source": [
    "# 8. ✅ Best Practices and Common Pitfalls\n",
    "\n",
    "### ✅ Best Practices\n",
    "- Use meaningful class and method names\n",
    "- Keep attributes private when appropriate\n",
    "- Favor composition over deep inheritance trees\n",
    "\n",
    "### ⚠️ Common Pitfalls\n",
    "- Overusing inheritance\n",
    "- Not using `super().__init__()` in subclasses\n",
    "- Forgetting `self` in method definitions\n",
    "\n",
    "Thanks! 🇵🇭🧑‍🍳"
   ]
  },
  {
   "cell_type": "code",
   "execution_count": null,
   "metadata": {},
   "outputs": [],
   "source": []
  }
 ],
 "metadata": {
  "kernelspec": {
   "display_name": "Python 3",
   "language": "python",
   "name": "python3"
  },
  "language_info": {
   "codemirror_mode": {
    "name": "ipython",
    "version": 3
   },
   "file_extension": ".py",
   "mimetype": "text/x-python",
   "name": "python",
   "nbconvert_exporter": "python",
   "pygments_lexer": "ipython3",
   "version": "3.11.4"
  }
 },
 "nbformat": 4,
 "nbformat_minor": 2
}
